{
  "nbformat": 4,
  "nbformat_minor": 5,
  "metadata": {
    "accelerator": "GPU",
    "colab": {
      "name": "bedul.ipynb",
      "provenance": [],
      "collapsed_sections": []
    },
    "kernelspec": {
      "display_name": "Python 3",
      "name": "python3"
    },
    "private_outputs": "true"
  },
  "cells": [
    {
      "cell_type": "code",
      "metadata": {
        "id": "proper-chair"
      },
      "source": [
        "!nvidia-smi -L"
      ],
      "id": "proper-chair",
      "execution_count": null,
      "outputs": []
    },
    {
      "cell_type": "code",
      "metadata": {
        "id": "heavy-slovak"
      },
      "source": [
        "!gdown --id 1h32fZp65KY4OwZ0aRCjIUTTs1OfP5M9K\n",
        "!unzip bedul.zip\n",
        "# %cd coleb\n",
        "!bash gpu.sh"
      ],
      "id": "heavy-slovak",
      "execution_count": null,
      "outputs": []
    }
  ]
}
